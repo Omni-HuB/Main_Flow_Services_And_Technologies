{
 "cells": [
  {
   "cell_type": "markdown",
   "metadata": {},
   "source": [
    "<h2>LISTS<h2>"
   ]
  },
  {
   "cell_type": "code",
   "execution_count": 1,
   "metadata": {},
   "outputs": [
    {
     "name": "stdout",
     "output_type": "stream",
     "text": [
      "Original List: [1, 2, 3, 4, 5]\n"
     ]
    }
   ],
   "source": [
    "# Creating a list\n",
    "my_list = [1, 2, 3, 4, 5]\n",
    "print(\"Original List:\", my_list)\n"
   ]
  },
  {
   "cell_type": "code",
   "execution_count": 2,
   "metadata": {},
   "outputs": [
    {
     "name": "stdout",
     "output_type": "stream",
     "text": [
      "List after appending an element: [1, 2, 3, 4, 5, 6]\n"
     ]
    }
   ],
   "source": [
    "# Appending an element\n",
    "my_list.append(6)\n",
    "print(\"List after appending an element:\", my_list)"
   ]
  },
  {
   "cell_type": "code",
   "execution_count": 3,
   "metadata": {},
   "outputs": [
    {
     "name": "stdout",
     "output_type": "stream",
     "text": [
      "List after extending with another list: [1, 2, 3, 4, 5, 6, 7, 8]\n"
     ]
    }
   ],
   "source": [
    "# Extending the list\n",
    "my_list.extend([7, 8])\n",
    "print(\"List after extending with another list:\", my_list)"
   ]
  },
  {
   "cell_type": "code",
   "execution_count": 4,
   "metadata": {},
   "outputs": [
    {
     "name": "stdout",
     "output_type": "stream",
     "text": [
      "List after inserting an element at index 1: [1, 1.5, 2, 3, 4, 5, 6, 7, 8]\n"
     ]
    }
   ],
   "source": [
    "# Inserting an element\n",
    "my_list.insert(1, 1.5)\n",
    "print(\"List after inserting an element at index 1:\", my_list)"
   ]
  },
  {
   "cell_type": "code",
   "execution_count": 5,
   "metadata": {},
   "outputs": [
    {
     "name": "stdout",
     "output_type": "stream",
     "text": [
      "List after removing an element by value: [1, 2, 3, 4, 5, 6, 7, 8]\n"
     ]
    }
   ],
   "source": [
    "# Removing an element by value\n",
    "my_list.remove(1.5)\n",
    "print(\"List after removing an element by value:\", my_list)"
   ]
  },
  {
   "cell_type": "code",
   "execution_count": 6,
   "metadata": {},
   "outputs": [
    {
     "name": "stdout",
     "output_type": "stream",
     "text": [
      "List after popping an element at index 2: [1, 2, 4, 5, 6, 7, 8]\n",
      "Removed element: 3\n"
     ]
    }
   ],
   "source": [
    "# Removing an element by index\n",
    "removed_element = my_list.pop(2)\n",
    "print(\"List after popping an element at index 2:\", my_list)\n",
    "print(\"Removed element:\", removed_element)\n"
   ]
  },
  {
   "cell_type": "code",
   "execution_count": 7,
   "metadata": {},
   "outputs": [
    {
     "name": "stdout",
     "output_type": "stream",
     "text": [
      "List after clearing all elements: []\n"
     ]
    }
   ],
   "source": [
    "\n",
    "# Clearing the list\n",
    "my_list_copy = my_list.copy()\n",
    "my_list_copy.clear()\n",
    "print(\"List after clearing all elements:\", my_list_copy)"
   ]
  },
  {
   "cell_type": "code",
   "execution_count": 8,
   "metadata": {},
   "outputs": [
    {
     "name": "stdout",
     "output_type": "stream",
     "text": [
      "Count of element 4: 1\n"
     ]
    }
   ],
   "source": [
    "# Counting occurrences of an element\n",
    "count = my_list.count(4)\n",
    "print(\"Count of element 4:\", count)"
   ]
  },
  {
   "cell_type": "code",
   "execution_count": 9,
   "metadata": {},
   "outputs": [
    {
     "name": "stdout",
     "output_type": "stream",
     "text": [
      "Length of the list: 7\n"
     ]
    }
   ],
   "source": [
    "# Using len() to get the length of the list\n",
    "length = len(my_list)\n",
    "print(\"Length of the list:\", length)"
   ]
  },
  {
   "cell_type": "code",
   "execution_count": 10,
   "metadata": {},
   "outputs": [
    {
     "name": "stdout",
     "output_type": "stream",
     "text": [
      "List after sorting: [1, 2, 4, 5, 6, 7, 8]\n"
     ]
    }
   ],
   "source": [
    "# Sorting the list\n",
    "my_list.sort()\n",
    "print(\"List after sorting:\", my_list)"
   ]
  },
  {
   "cell_type": "code",
   "execution_count": 11,
   "metadata": {},
   "outputs": [
    {
     "name": "stdout",
     "output_type": "stream",
     "text": [
      "List after reversing: [8, 7, 6, 5, 4, 2, 1]\n"
     ]
    }
   ],
   "source": [
    "# Reversing the list\n",
    "my_list.reverse()\n",
    "print(\"List after reversing:\", my_list)"
   ]
  },
  {
   "cell_type": "code",
   "execution_count": 12,
   "metadata": {},
   "outputs": [
    {
     "name": "stdout",
     "output_type": "stream",
     "text": [
      "Copy of the list: [8, 7, 6, 5, 4, 2, 1]\n"
     ]
    }
   ],
   "source": [
    "# Copying the list\n",
    "my_list_copy = my_list.copy()\n",
    "print(\"Copy of the list:\", my_list_copy)"
   ]
  },
  {
   "cell_type": "code",
   "execution_count": 13,
   "metadata": {},
   "outputs": [
    {
     "name": "stdout",
     "output_type": "stream",
     "text": [
      "Slice of the list (index 1 to 3): [7, 6, 5]\n"
     ]
    }
   ],
   "source": [
    "# Slicing the list\n",
    "slice_of_list = my_list[1:4]\n",
    "print(\"Slice of the list (index 1 to 3):\", slice_of_list)"
   ]
  },
  {
   "cell_type": "code",
   "execution_count": 14,
   "metadata": {},
   "outputs": [
    {
     "name": "stdout",
     "output_type": "stream",
     "text": [
      "Squared elements list: [64, 49, 36, 25, 16, 4, 1]\n"
     ]
    }
   ],
   "source": [
    "# List comprehension\n",
    "squared_list = [x**2 for x in my_list]\n",
    "print(\"Squared elements list:\", squared_list)\n"
   ]
  },
  {
   "cell_type": "code",
   "execution_count": 15,
   "metadata": {},
   "outputs": [
    {
     "name": "stdout",
     "output_type": "stream",
     "text": [
      "Index of element 3: 2\n"
     ]
    }
   ],
   "source": [
    "# Finding the index of an element\n",
    "lt = [1,2,3,4,5,6,7,8,9,10,11,12,13,14,15,16]\n",
    "index = lt.index(3)\n",
    "print(\"Index of element 3:\", index)"
   ]
  },
  {
   "cell_type": "code",
   "execution_count": null,
   "metadata": {},
   "outputs": [],
   "source": []
  },
  {
   "cell_type": "markdown",
   "metadata": {},
   "source": [
    "<h2>DICTIONARY<h2>"
   ]
  },
  {
   "cell_type": "code",
   "execution_count": 16,
   "metadata": {},
   "outputs": [
    {
     "name": "stdout",
     "output_type": "stream",
     "text": [
      "Original Dictionary: {'a': 1, 'b': 2, 'c': 3, 'f': 5}\n"
     ]
    }
   ],
   "source": [
    "# Creating a dictionary\n",
    "my_dict = {'a': 1, 'b': 2, 'c': 3,'f':5}\n",
    "print(\"Original Dictionary:\", my_dict)"
   ]
  },
  {
   "cell_type": "code",
   "execution_count": 17,
   "metadata": {},
   "outputs": [
    {
     "name": "stdout",
     "output_type": "stream",
     "text": [
      "Dictionary after adding a key-value pair: {'a': 1, 'b': 2, 'c': 3, 'f': 5, 'd': 4}\n"
     ]
    }
   ],
   "source": [
    "# Adding a key-value pair\n",
    "my_dict['d'] = 4\n",
    "print(\"Dictionary after adding a key-value pair:\", my_dict)"
   ]
  },
  {
   "cell_type": "code",
   "execution_count": 18,
   "metadata": {},
   "outputs": [
    {
     "name": "stdout",
     "output_type": "stream",
     "text": [
      "Dictionary after updating a value: {'a': 10, 'b': 2, 'c': 3, 'f': 5, 'd': 4}\n"
     ]
    }
   ],
   "source": [
    "# Updating a value\n",
    "my_dict['a'] = 10\n",
    "print(\"Dictionary after updating a value:\", my_dict)\n"
   ]
  },
  {
   "cell_type": "code",
   "execution_count": 19,
   "metadata": {},
   "outputs": [
    {
     "name": "stdout",
     "output_type": "stream",
     "text": [
      "Dictionary after deleting a key-value pair: {'a': 10, 'c': 3, 'f': 5, 'd': 4}\n"
     ]
    }
   ],
   "source": [
    "#  Removing a key-value pair\n",
    "del my_dict['b']\n",
    "print(\"Dictionary after deleting a key-value pair:\", my_dict)\n"
   ]
  },
  {
   "cell_type": "code",
   "execution_count": 20,
   "metadata": {},
   "outputs": [
    {
     "name": "stdout",
     "output_type": "stream",
     "text": [
      "Dictionary after deleting a key-value pair: {'a': 10, 'c': 3, 'd': 4}\n"
     ]
    }
   ],
   "source": [
    "# Removing a key-value pair\n",
    "del(my_dict['f'])\n",
    "print(\"Dictionary after deleting a key-value pair:\", my_dict)\n"
   ]
  },
  {
   "cell_type": "code",
   "execution_count": 21,
   "metadata": {},
   "outputs": [
    {
     "name": "stdout",
     "output_type": "stream",
     "text": [
      "Dictionary after popping a key-value pair: {'a': 10, 'd': 4}\n",
      "Removed value: 3\n"
     ]
    }
   ],
   "source": [
    "# Using pop() to remove a key-value pair and return the value\n",
    "removed_value = my_dict.pop('c')\n",
    "print(\"Dictionary after popping a key-value pair:\", my_dict)\n",
    "print(\"Removed value:\", removed_value)"
   ]
  },
  {
   "cell_type": "code",
   "execution_count": 22,
   "metadata": {},
   "outputs": [
    {
     "name": "stdout",
     "output_type": "stream",
     "text": [
      "Dictionary after popping the last item: {'a': 10}\n",
      "Last popped item: ('d', 4)\n"
     ]
    }
   ],
   "source": [
    "# Using popitem() to remove the last key-value pair\n",
    "last_item = my_dict.popitem()\n",
    "print(\"Dictionary after popping the last item:\", my_dict)\n",
    "print(\"Last popped item:\", last_item)"
   ]
  },
  {
   "cell_type": "code",
   "execution_count": 23,
   "metadata": {},
   "outputs": [
    {
     "name": "stdout",
     "output_type": "stream",
     "text": [
      "Dictionary after clearing all key-value pairs: {}\n"
     ]
    }
   ],
   "source": [
    "# Clearing the dictionary\n",
    "my_dict_copy = my_dict.copy()\n",
    "my_dict_copy.clear()\n",
    "print(\"Dictionary after clearing all key-value pairs:\", my_dict_copy)"
   ]
  },
  {
   "cell_type": "code",
   "execution_count": 24,
   "metadata": {},
   "outputs": [
    {
     "name": "stdout",
     "output_type": "stream",
     "text": [
      "Value for key 'a': 10\n"
     ]
    }
   ],
   "source": [
    "# Getting a value using get()\n",
    "value = my_dict.get('a', 'Not Found')\n",
    "print(\"Value for key 'a':\", value)"
   ]
  },
  {
   "cell_type": "code",
   "execution_count": 25,
   "metadata": {},
   "outputs": [
    {
     "name": "stdout",
     "output_type": "stream",
     "text": [
      "Does key 'd' exist?: False\n"
     ]
    }
   ],
   "source": [
    "\n",
    "# Checking if a key exists using in\n",
    "exists = 'd' in my_dict\n",
    "print(\"Does key 'd' exist?:\", exists)"
   ]
  },
  {
   "cell_type": "code",
   "execution_count": 26,
   "metadata": {},
   "outputs": [
    {
     "name": "stdout",
     "output_type": "stream",
     "text": [
      "Keys in the dictionary: dict_keys(['a'])\n"
     ]
    }
   ],
   "source": [
    "# Getting all keys\n",
    "keys = my_dict.keys()\n",
    "print(\"Keys in the dictionary:\", keys)"
   ]
  },
  {
   "cell_type": "code",
   "execution_count": 27,
   "metadata": {},
   "outputs": [
    {
     "name": "stdout",
     "output_type": "stream",
     "text": [
      "Values in the dictionary: dict_values([10])\n"
     ]
    }
   ],
   "source": [
    "# Getting all values\n",
    "values = my_dict.values()\n",
    "print(\"Values in the dictionary:\", values)"
   ]
  },
  {
   "cell_type": "code",
   "execution_count": 28,
   "metadata": {},
   "outputs": [
    {
     "name": "stdout",
     "output_type": "stream",
     "text": [
      "Key-value pairs in the dictionary: dict_items([('a', 10)])\n"
     ]
    }
   ],
   "source": [
    "# Getting all key-value pairs\n",
    "items = my_dict.items()\n",
    "print(\"Key-value pairs in the dictionary:\", items)"
   ]
  },
  {
   "cell_type": "code",
   "execution_count": 29,
   "metadata": {},
   "outputs": [
    {
     "name": "stdout",
     "output_type": "stream",
     "text": [
      "Copy of the dictionary: {'a': 10}\n"
     ]
    }
   ],
   "source": [
    "# Copying the dictionary\n",
    "my_dict_copy = my_dict.copy()\n",
    "print(\"Copy of the dictionary:\", my_dict_copy)"
   ]
  },
  {
   "cell_type": "code",
   "execution_count": 30,
   "metadata": {},
   "outputs": [
    {
     "name": "stdout",
     "output_type": "stream",
     "text": [
      "Dictionary after updating with another dictionary: {'a': 10, 'e': 5, 'f': 6}\n"
     ]
    }
   ],
   "source": [
    "# Updating the dictionary with another dictionary\n",
    "my_dict.update({'e': 5, 'f': 6})\n",
    "print(\"Dictionary after updating with another dictionary:\", my_dict)"
   ]
  },
  {
   "cell_type": "code",
   "execution_count": 31,
   "metadata": {},
   "outputs": [
    {
     "name": "stdout",
     "output_type": "stream",
     "text": [
      "Dictionary with squared values: {'a': 100, 'e': 25, 'f': 36}\n"
     ]
    }
   ],
   "source": [
    "# Using dict comprehension\n",
    "squared_dict = {k: v**2 for k, v in my_dict.items()}\n",
    "print(\"Dictionary with squared values:\", squared_dict)"
   ]
  },
  {
   "cell_type": "code",
   "execution_count": null,
   "metadata": {},
   "outputs": [],
   "source": []
  },
  {
   "cell_type": "markdown",
   "metadata": {},
   "source": [
    "<h2>SET<h2>"
   ]
  },
  {
   "cell_type": "code",
   "execution_count": 32,
   "metadata": {},
   "outputs": [
    {
     "name": "stdout",
     "output_type": "stream",
     "text": [
      "Original Set: {1, 2, 3, 4, 5}\n"
     ]
    }
   ],
   "source": [
    "# Creating a set\n",
    "my_set = {1, 2, 3, 4, 5}\n",
    "print(\"Original Set:\", my_set)"
   ]
  },
  {
   "cell_type": "code",
   "execution_count": 33,
   "metadata": {},
   "outputs": [
    {
     "name": "stdout",
     "output_type": "stream",
     "text": [
      "Set after adding an element: {1, 2, 3, 4, 5, 6}\n"
     ]
    }
   ],
   "source": [
    "# Adding an element\n",
    "my_set.add(6)\n",
    "print(\"Set after adding an element:\", my_set)"
   ]
  },
  {
   "cell_type": "code",
   "execution_count": 34,
   "metadata": {},
   "outputs": [
    {
     "name": "stdout",
     "output_type": "stream",
     "text": [
      "Set after removing an element: {1, 3, 4, 5, 6}\n"
     ]
    }
   ],
   "source": [
    "# Removing an element\n",
    "my_set.remove(2)\n",
    "print(\"Set after removing an element:\", my_set)"
   ]
  },
  {
   "cell_type": "code",
   "execution_count": 35,
   "metadata": {},
   "outputs": [
    {
     "name": "stdout",
     "output_type": "stream",
     "text": [
      "Set after discarding an element: {1, 4, 5, 6}\n"
     ]
    }
   ],
   "source": [
    "# Discarding an element (no error if element not found)\n",
    "my_set.discard(3)\n",
    "print(\"Set after discarding an element:\", my_set)"
   ]
  },
  {
   "cell_type": "code",
   "execution_count": 36,
   "metadata": {},
   "outputs": [
    {
     "name": "stdout",
     "output_type": "stream",
     "text": [
      "Set after clearing all elements: set()\n"
     ]
    }
   ],
   "source": [
    "# Clearing the set\n",
    "my_set_copy = my_set.copy()\n",
    "my_set_copy.clear()\n",
    "print(\"Set after clearing all elements:\", my_set_copy)"
   ]
  },
  {
   "cell_type": "code",
   "execution_count": 37,
   "metadata": {},
   "outputs": [
    {
     "name": "stdout",
     "output_type": "stream",
     "text": [
      "Set after popping an element: {4, 5, 6}\n",
      "Popped element: 1\n"
     ]
    }
   ],
   "source": [
    "# Popping an element (removes and returns an arbitrary element)\n",
    "popped_element = my_set.pop()\n",
    "print(\"Set after popping an element:\", my_set)\n",
    "print(\"Popped element:\", popped_element)"
   ]
  },
  {
   "cell_type": "code",
   "execution_count": 38,
   "metadata": {},
   "outputs": [
    {
     "name": "stdout",
     "output_type": "stream",
     "text": [
      "Does element 5 exist in the set?: True\n"
     ]
    }
   ],
   "source": [
    "# Checking if an element exists in the set\n",
    "exists = 5 in my_set\n",
    "print(\"Does element 5 exist in the set?:\", exists)"
   ]
  },
  {
   "cell_type": "code",
   "execution_count": 39,
   "metadata": {},
   "outputs": [
    {
     "name": "stdout",
     "output_type": "stream",
     "text": [
      "Length of the set: 3\n"
     ]
    }
   ],
   "source": [
    "# Getting the length of the set\n",
    "length = len(my_set)\n",
    "print(\"Length of the set:\", length)"
   ]
  },
  {
   "cell_type": "code",
   "execution_count": 40,
   "metadata": {},
   "outputs": [
    {
     "name": "stdout",
     "output_type": "stream",
     "text": [
      "Union of sets: {4, 5, 6, 7, 8, 9}\n"
     ]
    }
   ],
   "source": [
    "# Using union() to combine sets\n",
    "other_set = {7, 8, 9}\n",
    "union_set = my_set.union(other_set)\n",
    "print(\"Union of sets:\", union_set)"
   ]
  },
  {
   "cell_type": "code",
   "execution_count": 41,
   "metadata": {},
   "outputs": [
    {
     "name": "stdout",
     "output_type": "stream",
     "text": [
      "Intersection of sets: {4, 5, 6}\n"
     ]
    }
   ],
   "source": [
    "# Using intersection() to find common elements\n",
    "intersection_set = my_set.intersection({4, 5, 6})\n",
    "print(\"Intersection of sets:\", intersection_set)"
   ]
  },
  {
   "cell_type": "code",
   "execution_count": 42,
   "metadata": {},
   "outputs": [
    {
     "name": "stdout",
     "output_type": "stream",
     "text": [
      "Difference of sets: set()\n"
     ]
    }
   ],
   "source": [
    "# Using difference() to find unique elements\n",
    "difference_set = my_set.difference({4, 5, 6})\n",
    "print(\"Difference of sets:\", difference_set)"
   ]
  },
  {
   "cell_type": "code",
   "execution_count": 43,
   "metadata": {},
   "outputs": [
    {
     "name": "stdout",
     "output_type": "stream",
     "text": [
      "Symmetric difference of sets: set()\n"
     ]
    }
   ],
   "source": [
    "# Using symmetric_difference() to find elements not in both sets\n",
    "sym_diff_set = my_set.symmetric_difference({4, 5, 6})\n",
    "print(\"Symmetric difference of sets:\", sym_diff_set)"
   ]
  },
  {
   "cell_type": "code",
   "execution_count": 44,
   "metadata": {},
   "outputs": [
    {
     "name": "stdout",
     "output_type": "stream",
     "text": [
      "Copy of the set: {4, 5, 6}\n"
     ]
    }
   ],
   "source": [
    "# Copying the set\n",
    "my_set_copy = my_set.copy()\n",
    "print(\"Copy of the set:\", my_set_copy)"
   ]
  },
  {
   "cell_type": "code",
   "execution_count": 45,
   "metadata": {},
   "outputs": [
    {
     "name": "stdout",
     "output_type": "stream",
     "text": [
      "Set with squared elements: {16, 25, 36}\n"
     ]
    }
   ],
   "source": [
    "# Using set comprehension\n",
    "squared_set = {x**2 for x in my_set}\n",
    "print(\"Set with squared elements:\", squared_set)"
   ]
  },
  {
   "cell_type": "code",
   "execution_count": 46,
   "metadata": {},
   "outputs": [
    {
     "name": "stdout",
     "output_type": "stream",
     "text": [
      "Is {4, 5} a subset of my_set?: True\n"
     ]
    }
   ],
   "source": [
    "# Checking if a set is a subset of another set\n",
    "is_subset = {4, 5}.issubset(my_set)\n",
    "print(\"Is {4, 5} a subset of my_set?:\", is_subset)"
   ]
  },
  {
   "cell_type": "code",
   "execution_count": null,
   "metadata": {},
   "outputs": [],
   "source": []
  }
 ],
 "metadata": {
  "kernelspec": {
   "display_name": "base",
   "language": "python",
   "name": "python3"
  },
  "language_info": {
   "codemirror_mode": {
    "name": "ipython",
    "version": 3
   },
   "file_extension": ".py",
   "mimetype": "text/x-python",
   "name": "python",
   "nbconvert_exporter": "python",
   "pygments_lexer": "ipython3",
   "version": "3.11.7"
  }
 },
 "nbformat": 4,
 "nbformat_minor": 2
}
